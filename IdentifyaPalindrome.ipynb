{
  "nbformat": 4,
  "nbformat_minor": 0,
  "metadata": {
    "colab": {
      "name": "IdentifyaPalindrome.ipynb",
      "provenance": [],
      "authorship_tag": "ABX9TyPCpwA/2sIDcSZQbY4dbyhz",
      "include_colab_link": true
    },
    "kernelspec": {
      "name": "python3",
      "display_name": "Python 3"
    }
  },
  "cells": [
    {
      "cell_type": "markdown",
      "metadata": {
        "id": "view-in-github",
        "colab_type": "text"
      },
      "source": [
        "<a href=\"https://colab.research.google.com/github/Mugund-K/PythonSnippets/blob/main/IdentifyaPalindrome.ipynb\" target=\"_parent\"><img src=\"https://colab.research.google.com/assets/colab-badge.svg\" alt=\"Open In Colab\"/></a>"
      ]
    },
    {
      "cell_type": "markdown",
      "metadata": {
        "id": "ZoJM9sbhL0hP"
      },
      "source": [
        "Write a Python function to determine if a given string is a palindrome"
      ]
    },
    {
      "cell_type": "code",
      "metadata": {
        "id": "sbVa2vcnL5O_"
      },
      "source": [
        "import re\r\n",
        "\r\n",
        "def is_palindrome(phrase):\r\n",
        "  forwards = ''.join(re.findall(r'[a-z]+', phrase.lower()))\r\n",
        "  backwards = forwards[::-1]\r\n",
        "  return forwards == backwards\r\n"
      ],
      "execution_count": 2,
      "outputs": []
    },
    {
      "cell_type": "code",
      "metadata": {
        "colab": {
          "base_uri": "https://localhost:8080/"
        },
        "id": "9XrK-ASmDahg",
        "outputId": "04f96bab-2bbe-410e-87bd-6ba3383449bf"
      },
      "source": [
        "is_palindrome('Dog')"
      ],
      "execution_count": 3,
      "outputs": [
        {
          "output_type": "execute_result",
          "data": {
            "text/plain": [
              "False"
            ]
          },
          "metadata": {
            "tags": []
          },
          "execution_count": 3
        }
      ]
    },
    {
      "cell_type": "code",
      "metadata": {
        "colab": {
          "base_uri": "https://localhost:8080/"
        },
        "id": "-diKLT28Dsoh",
        "outputId": "c6593ad4-415b-4b7d-b7e4-146bb18e63ad"
      },
      "source": [
        "is_palindrome('stats')"
      ],
      "execution_count": 5,
      "outputs": [
        {
          "output_type": "execute_result",
          "data": {
            "text/plain": [
              "True"
            ]
          },
          "metadata": {
            "tags": []
          },
          "execution_count": 5
        }
      ]
    },
    {
      "cell_type": "code",
      "metadata": {
        "colab": {
          "base_uri": "https://localhost:8080/"
        },
        "id": "dq9t2v2KED__",
        "outputId": "e00cbc01-3a5c-49ba-9e65-5e5edb9e6413"
      },
      "source": [
        "is_palindrome('Was it a cat I saw?')"
      ],
      "execution_count": 6,
      "outputs": [
        {
          "output_type": "execute_result",
          "data": {
            "text/plain": [
              "True"
            ]
          },
          "metadata": {
            "tags": []
          },
          "execution_count": 6
        }
      ]
    },
    {
      "cell_type": "code",
      "metadata": {
        "colab": {
          "base_uri": "https://localhost:8080/"
        },
        "id": "xAdfuPxEEKch",
        "outputId": "aaaaa09e-42cb-477e-8b9c-5b1ecc4b9360"
      },
      "source": [
        "is_palindrome('9999')"
      ],
      "execution_count": 7,
      "outputs": [
        {
          "output_type": "execute_result",
          "data": {
            "text/plain": [
              "True"
            ]
          },
          "metadata": {
            "tags": []
          },
          "execution_count": 7
        }
      ]
    },
    {
      "cell_type": "code",
      "metadata": {
        "id": "I6Z5rLB4ESwC"
      },
      "source": [
        ""
      ],
      "execution_count": null,
      "outputs": []
    },
    {
      "cell_type": "code",
      "metadata": {
        "id": "KyJCkHm3Dz2S"
      },
      "source": [
        ""
      ],
      "execution_count": null,
      "outputs": []
    }
  ]
}