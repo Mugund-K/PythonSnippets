{
  "nbformat": 4,
  "nbformat_minor": 0,
  "metadata": {
    "colab": {
      "name": "SpeechRecognition.ipynb",
      "provenance": [],
      "authorship_tag": "ABX9TyMAAe/khT8128qs3Rc2+tld",
      "include_colab_link": true
    },
    "kernelspec": {
      "name": "python3",
      "display_name": "Python 3"
    }
  },
  "cells": [
    {
      "cell_type": "markdown",
      "metadata": {
        "id": "view-in-github",
        "colab_type": "text"
      },
      "source": [
        "<a href=\"https://colab.research.google.com/github/Mugund-K/PythonSnippets/blob/main/SpeechRecognition.ipynb\" target=\"_parent\"><img src=\"https://colab.research.google.com/assets/colab-badge.svg\" alt=\"Open In Colab\"/></a>"
      ]
    },
    {
      "cell_type": "code",
      "metadata": {
        "colab": {
          "base_uri": "https://localhost:8080/"
        },
        "id": "KX7abcFcC6K_",
        "outputId": "57885a30-adec-474e-eb02-5d22584a468e"
      },
      "source": [
        "!pip install SpeechRecognition"
      ],
      "execution_count": 1,
      "outputs": [
        {
          "output_type": "stream",
          "text": [
            "Collecting SpeechRecognition\n",
            "\u001b[?25l  Downloading https://files.pythonhosted.org/packages/26/e1/7f5678cd94ec1234269d23756dbdaa4c8cfaed973412f88ae8adf7893a50/SpeechRecognition-3.8.1-py2.py3-none-any.whl (32.8MB)\n",
            "\u001b[K     |████████████████████████████████| 32.8MB 120kB/s \n",
            "\u001b[?25hInstalling collected packages: SpeechRecognition\n",
            "Successfully installed SpeechRecognition-3.8.1\n"
          ],
          "name": "stdout"
        }
      ]
    },
    {
      "cell_type": "code",
      "metadata": {
        "id": "MUQ4onYdC-N1"
      },
      "source": [
        "import speech_recognition as sr\r\n",
        "recognizer = sr.Recognizer()\r\n",
        "recognizer.energy_threshhold = 30\r\n"
      ],
      "execution_count": 3,
      "outputs": []
    },
    {
      "cell_type": "code",
      "metadata": {
        "id": "H-AjXQnyDNBU"
      },
      "source": [
        "clean_support_call = sr.AudioFile(\"clean-support-call.wav\")\r\n",
        "\r\n"
      ],
      "execution_count": 7,
      "outputs": []
    },
    {
      "cell_type": "code",
      "metadata": {
        "colab": {
          "base_uri": "https://localhost:8080/"
        },
        "id": "5krtjCkgHm25",
        "outputId": "6f28b030-9e59-4cc0-c13f-08257580ce7c"
      },
      "source": [
        "with clean_support_call as source:\r\n",
        "  clean_support_call_audio = recognizer.record(source)\r\n",
        "\r\n",
        "text=recognizer.recognize_google(audio_data=clean_support_call_audio , language='en-US')\r\n",
        "print(text)"
      ],
      "execution_count": 10,
      "outputs": [
        {
          "output_type": "stream",
          "text": [
            "hello I'd like to get some help setting up my account please\n"
          ],
          "name": "stdout"
        }
      ]
    },
    {
      "cell_type": "code",
      "metadata": {
        "colab": {
          "base_uri": "https://localhost:8080/"
        },
        "id": "rwLToP2bItu-",
        "outputId": "92fb8722-0019-40d9-9ea8-bec447951975"
      },
      "source": [
        "japanese_audio = sr.AudioFile(\"good-morning-japanense.wav\")\r\n",
        "with japanese_audio as source:\r\n",
        "  japanese_audio_touse = recognizer.record(source)\r\n",
        "\r\n",
        "text=recognizer.recognize_google(audio_data=japanese_audio_touse , language='en-US')\r\n",
        "print(text)"
      ],
      "execution_count": 4,
      "outputs": [
        {
          "output_type": "stream",
          "text": [
            "ohayo gozaimasu\n"
          ],
          "name": "stdout"
        }
      ]
    },
    {
      "cell_type": "code",
      "metadata": {
        "colab": {
          "base_uri": "https://localhost:8080/"
        },
        "id": "4rt-0gOh3-9a",
        "outputId": "184f9439-de05-48e6-f7fa-f6cd95b2db2f"
      },
      "source": [
        "text=recognizer.recognize_google(audio_data=japanese_audio_touse , language='ja')\r\n",
        "print(text)"
      ],
      "execution_count": 5,
      "outputs": [
        {
          "output_type": "stream",
          "text": [
            "おはようございます\n"
          ],
          "name": "stdout"
        }
      ]
    },
    {
      "cell_type": "code",
      "metadata": {
        "id": "FY4rp9Aq4BCD"
      },
      "source": [
        ""
      ],
      "execution_count": null,
      "outputs": []
    }
  ]
}