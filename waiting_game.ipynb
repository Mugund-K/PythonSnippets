{
  "nbformat": 4,
  "nbformat_minor": 0,
  "metadata": {
    "colab": {
      "name": "waiting_game.ipynb",
      "provenance": [],
      "authorship_tag": "ABX9TyMgpUq8adxcIKa2hiw0ueHO",
      "include_colab_link": true
    },
    "kernelspec": {
      "name": "python3",
      "display_name": "Python 3"
    }
  },
  "cells": [
    {
      "cell_type": "markdown",
      "metadata": {
        "id": "view-in-github",
        "colab_type": "text"
      },
      "source": [
        "<a href=\"https://colab.research.google.com/github/Mugund-K/PythonSnippets/blob/main/waiting_game.ipynb\" target=\"_parent\"><img src=\"https://colab.research.google.com/assets/colab-badge.svg\" alt=\"Open In Colab\"/></a>"
      ]
    },
    {
      "cell_type": "code",
      "metadata": {
        "id": "hVXdDS_Rpuhp"
      },
      "source": [
        "import time\r\n",
        "import random\r\n",
        "\r\n",
        "def waiting_time():\r\n",
        "  target = random.randint(2,4)\r\n",
        "  print('\\n Your target time is {} seconds'.format(target))\r\n",
        "\r\n",
        "  input(' --- Press Enter to Begin ---')\r\n",
        "  start = time.perf_counter()\r\n",
        "\r\n",
        "  input('\\n...Pressed enter after {} seconds...'.format(target))\r\n",
        "  elapsed = time.perf_counter() - start\r\n",
        "\r\n",
        "  print('\\nElapsed time: {0:.3f} seconds'.format(elapsed))\r\n",
        "\r\n",
        "  if elapsed == target:\r\n",
        "    print('Unbeleivable ! Perfect timing!')\r\n",
        "  elif elapsed < target:\r\n",
        "    print('\\n{0:.3f} seconds too fast'.format(target - elapsed))\r\n",
        "  else:\r\n",
        "    print('\\n{0:.3f} seconds too slow'.format(elapsed - target))"
      ],
      "execution_count": null,
      "outputs": []
    },
    {
      "cell_type": "code",
      "metadata": {
        "colab": {
          "base_uri": "https://localhost:8080/"
        },
        "id": "4iiToPtQrRaK",
        "outputId": "5ba7470e-8a74-4a39-9be1-c94f6fcd832e"
      },
      "source": [
        "waiting_time()"
      ],
      "execution_count": null,
      "outputs": [
        {
          "output_type": "stream",
          "text": [
            "\n",
            " Your target time is 4 seconds\n",
            " --- Press Enter to Begin ---\n",
            "\n",
            "...Pressed enter after 4 seconds...\n",
            "\n",
            "Elapsed time: 2.843 seconds\n",
            "\n",
            "1.157 seconds too fast\n"
          ],
          "name": "stdout"
        }
      ]
    },
    {
      "cell_type": "code",
      "metadata": {
        "colab": {
          "base_uri": "https://localhost:8080/"
        },
        "id": "VNQ3hoh-rcOy",
        "outputId": "1257a86a-f2f8-4dcc-a7e2-76cb482791ab"
      },
      "source": [
        "waiting_time()"
      ],
      "execution_count": null,
      "outputs": [
        {
          "output_type": "stream",
          "text": [
            "\n",
            " Your target time is 3 seconds\n",
            " --- Press Enter to Begin ---\n",
            "\n",
            "...Pressed enter after 3 seconds...\n",
            "\n",
            "Elapsed time: 3.075 seconds\n",
            "\n",
            "0.075 seconds too slow\n"
          ],
          "name": "stdout"
        }
      ]
    },
    {
      "cell_type": "code",
      "metadata": {
        "id": "bCOiAcAbriRb"
      },
      "source": [
        ""
      ],
      "execution_count": null,
      "outputs": []
    },
    {
      "cell_type": "code",
      "metadata": {
        "id": "IC2-GWcyrVEz"
      },
      "source": [
        ""
      ],
      "execution_count": null,
      "outputs": []
    }
  ]
}