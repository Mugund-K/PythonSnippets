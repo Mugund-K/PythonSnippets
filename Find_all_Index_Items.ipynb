{
  "nbformat": 4,
  "nbformat_minor": 0,
  "metadata": {
    "colab": {
      "name": "Find all Index Items.ipynb",
      "provenance": [],
      "collapsed_sections": [],
      "authorship_tag": "ABX9TyPCWs5WlMsTIt7FfAL1T2G4",
      "include_colab_link": true
    },
    "kernelspec": {
      "name": "python3",
      "display_name": "Python 3"
    }
  },
  "cells": [
    {
      "cell_type": "markdown",
      "metadata": {
        "id": "view-in-github",
        "colab_type": "text"
      },
      "source": [
        "<a href=\"https://colab.research.google.com/github/Mugund-K/PythonSnippets/blob/main/Find_all_Index_Items.ipynb\" target=\"_parent\"><img src=\"https://colab.research.google.com/assets/colab-badge.svg\" alt=\"Open In Colab\"/></a>"
      ]
    },
    {
      "cell_type": "code",
      "metadata": {
        "id": "-ccdu1obnbme"
      },
      "source": [
        ""
      ],
      "execution_count": null,
      "outputs": []
    },
    {
      "cell_type": "markdown",
      "metadata": {
        "id": "YPX32hmTnfd7"
      },
      "source": [
        "Input: List to search, value to search for\r\n",
        "\r\n",
        "Output: List of indices\r\n"
      ]
    },
    {
      "cell_type": "code",
      "metadata": {
        "id": "4AGw2jjxnkKk"
      },
      "source": [
        "def index_all(search_list, item):\r\n",
        "  indices = list()\r\n",
        "  for i in range(len(search_list)):\r\n",
        "    if search_list[i] == item:\r\n",
        "      indices.append([i])\r\n",
        "    elif isinstance(search_list[i], list):\r\n",
        "      for index in index_all(search_list[i], item):\r\n",
        "        indices.append([i]+index)\r\n",
        "  return indices\r\n",
        "    "
      ],
      "execution_count": null,
      "outputs": []
    },
    {
      "cell_type": "code",
      "metadata": {
        "id": "6eb8lESooX6U"
      },
      "source": [
        "example = [[[1,2,3],2,[1,3]],[1,2,3]]"
      ],
      "execution_count": null,
      "outputs": []
    },
    {
      "cell_type": "code",
      "metadata": {
        "colab": {
          "base_uri": "https://localhost:8080/"
        },
        "id": "SKMg0HM5owHE",
        "outputId": "b600368b-5d8d-468e-c0b3-d524ba486926"
      },
      "source": [
        "index_all(example,2)"
      ],
      "execution_count": null,
      "outputs": [
        {
          "output_type": "execute_result",
          "data": {
            "text/plain": [
              "[[0, 0, 1], [0, 1], [1, 1]]"
            ]
          },
          "metadata": {
            "tags": []
          },
          "execution_count": 9
        }
      ]
    },
    {
      "cell_type": "code",
      "metadata": {
        "id": "VqhedIy6o1p8"
      },
      "source": [
        ""
      ],
      "execution_count": null,
      "outputs": []
    }
  ]
}