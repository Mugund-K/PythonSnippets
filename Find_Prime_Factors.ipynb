{
  "nbformat": 4,
  "nbformat_minor": 0,
  "metadata": {
    "colab": {
      "name": "Find Prime Factors.ipynb",
      "provenance": [],
      "authorship_tag": "ABX9TyOaSzvaMmdeWHw1WnCZ+DNs",
      "include_colab_link": true
    },
    "kernelspec": {
      "name": "python3",
      "display_name": "Python 3"
    }
  },
  "cells": [
    {
      "cell_type": "markdown",
      "metadata": {
        "id": "view-in-github",
        "colab_type": "text"
      },
      "source": [
        "<a href=\"https://colab.research.google.com/github/Mugund-K/PythonSnippets/blob/main/Find_Prime_Factors.ipynb\" target=\"_parent\"><img src=\"https://colab.research.google.com/assets/colab-badge.svg\" alt=\"Open In Colab\"/></a>"
      ]
    },
    {
      "cell_type": "markdown",
      "metadata": {
        "id": "METui789nY4y"
      },
      "source": [
        "Public Key encryption relies on certain really large numbers being computationaly hard to factor to keep data safe.\r\n",
        "\r\n",
        "Input - Integer Values;\r\n",
        "\r\n",
        "\r\n",
        "Output - List of Prime factors\r\n"
      ]
    },
    {
      "cell_type": "code",
      "metadata": {
        "id": "xjUsOWUdpJ1h"
      },
      "source": [
        "def get_prime_factors(N):\r\n",
        "  factors = list()\r\n",
        "  divisor = 2\r\n",
        "  while(divisor <= N):\r\n",
        "    if (N % divisor) == 0:\r\n",
        "      factors.append(divisor)\r\n",
        "      N = N/divisor\r\n",
        "    else:\r\n",
        "      divisor += 1\r\n",
        "  return factors"
      ],
      "execution_count": null,
      "outputs": []
    },
    {
      "cell_type": "code",
      "metadata": {
        "colab": {
          "base_uri": "https://localhost:8080/"
        },
        "id": "wbK6i_lSpt0e",
        "outputId": "7c619fc8-121b-404b-c96b-5a30f0c67ac9"
      },
      "source": [
        "get_prime_factors(60)"
      ],
      "execution_count": null,
      "outputs": [
        {
          "output_type": "execute_result",
          "data": {
            "text/plain": [
              "[2, 2, 3, 5]"
            ]
          },
          "metadata": {
            "tags": []
          },
          "execution_count": 2
        }
      ]
    },
    {
      "cell_type": "code",
      "metadata": {
        "colab": {
          "base_uri": "https://localhost:8080/"
        },
        "id": "iCzxMsTYpwcN",
        "outputId": "60e43980-f44a-4298-b31b-c76955abebe3"
      },
      "source": [
        "get_prime_factors(13)"
      ],
      "execution_count": null,
      "outputs": [
        {
          "output_type": "execute_result",
          "data": {
            "text/plain": [
              "[13]"
            ]
          },
          "metadata": {
            "tags": []
          },
          "execution_count": 3
        }
      ]
    },
    {
      "cell_type": "code",
      "metadata": {
        "id": "QhRzWaGlqCmj"
      },
      "source": [
        ""
      ],
      "execution_count": null,
      "outputs": []
    }
  ]
}